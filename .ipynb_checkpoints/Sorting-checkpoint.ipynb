{
 "cells": [
  {
   "cell_type": "markdown",
   "id": "bd9b7cda-6176-490b-ad66-cb820553e688",
   "metadata": {},
   "source": [
    "# Sorting-Algorithms"
   ]
  },
  {
   "cell_type": "markdown",
   "id": "4d15a91d-8c88-4c74-a129-4319b952836b",
   "metadata": {},
   "source": [
    "Mathematical and theoretical stuff will be added later or in an accompanying markdown file."
   ]
  },
  {
   "cell_type": "markdown",
   "id": "b2c6fe9e-dbe3-40d9-803b-7347e02b1955",
   "metadata": {
    "jp-MarkdownHeadingCollapsed": true,
    "tags": []
   },
   "source": [
    "## Auxiliary Functions"
   ]
  },
  {
   "cell_type": "code",
   "execution_count": 1,
   "id": "bb8685f7-2b82-4af0-a632-1ba49c74db24",
   "metadata": {},
   "outputs": [],
   "source": [
    "def cmp(x, y):\n",
    "    return x <= y"
   ]
  },
  {
   "cell_type": "code",
   "execution_count": 2,
   "id": "70b32da2-56d3-4d3e-96f8-8bf934972374",
   "metadata": {},
   "outputs": [],
   "source": [
    "def swap(x, y, L):\n",
    "    tmp = L[x]\n",
    "    L[x] = L[y]\n",
    "    L[y] = tmp"
   ]
  },
  {
   "cell_type": "code",
   "execution_count": 3,
   "id": "308ce59b-3cc2-4fb4-8b0b-be43994df905",
   "metadata": {},
   "outputs": [],
   "source": [
    "class testFailed(Exception):\n",
    "    '''Throw when a test fails'''"
   ]
  },
  {
   "cell_type": "markdown",
   "id": "861ad410-8549-4407-a560-6fd8f6af244b",
   "metadata": {
    "jp-MarkdownHeadingCollapsed": true,
    "tags": []
   },
   "source": [
    "## Insertion Sort"
   ]
  },
  {
   "cell_type": "markdown",
   "id": "4a501792-6a39-46e7-a03b-7c8ecc16d3d6",
   "metadata": {
    "tags": []
   },
   "source": [
    "### Iterative"
   ]
  },
  {
   "cell_type": "markdown",
   "id": "ef34dccf-5c0c-49d6-a2e4-96838810546e",
   "metadata": {
    "tags": []
   },
   "source": [
    "#### Idea:\n",
    "- Loop through L, where i is the current index\n",
    "- At the beginning of the loop, the subarray `L[:i]` is sorted.\n",
    "- At the end of the loop, the subarray `L[:i+1]` is sorted"
   ]
  },
  {
   "cell_type": "code",
   "execution_count": 4,
   "id": "ce18b19e-b3cd-47a8-9682-0b2db2618f6f",
   "metadata": {},
   "outputs": [],
   "source": [
    "def insertionSortIterative(L: list, cmp):\n",
    "    for i in range(1, len(L)):\n",
    "        val = L[i]\n",
    "        j = i-1\n",
    "        while j >= 0 and not cmp(L[j], val):\n",
    "            L[j+1] = L[j]\n",
    "            j -= 1\n",
    "        L[j+1] = val\n",
    "    return L"
   ]
  },
  {
   "cell_type": "markdown",
   "id": "4a2bd013-3e6c-452c-89d0-7237460e8522",
   "metadata": {
    "tags": []
   },
   "source": [
    "### Recursive"
   ]
  },
  {
   "cell_type": "markdown",
   "id": "930ca2d2-d421-4f3e-a5a5-6a146330f901",
   "metadata": {},
   "source": [
    "#### Idea:\n",
    "- Take the first element of the list and recursively sort the rest of the list\n",
    "- Insert the first element into the sorted rest\n",
    "- Insertion works by recursively going through the list\n",
    "- Essentially this is a much less efficient version of the iterative algorithm, yet reversed, first sorting the end of the array and then its beginning"
   ]
  },
  {
   "cell_type": "code",
   "execution_count": 5,
   "id": "5ffb748c-f6cd-4d32-baae-b4fffbf74810",
   "metadata": {},
   "outputs": [],
   "source": [
    "def insertionSortRecursive(L: list, cmp):\n",
    "    if L == []:\n",
    "        return L\n",
    "    x, *R = L\n",
    "    return insert(x, insertionSortRecursive(R, cmp), cmp)\n",
    "\n",
    "def insert(x, L: list, cmp):\n",
    "    if L == []:\n",
    "        return [x]\n",
    "    y, *R = L\n",
    "    if cmp(x, y):\n",
    "        return [x, y] + R\n",
    "    else:\n",
    "        return [y] + insert(x, R, cmp)"
   ]
  },
  {
   "cell_type": "markdown",
   "id": "c38018ed-c731-40a1-887b-ded4a2f907d6",
   "metadata": {
    "jp-MarkdownHeadingCollapsed": true,
    "tags": []
   },
   "source": [
    "## Selection Sort"
   ]
  },
  {
   "cell_type": "code",
   "execution_count": 6,
   "id": "db768783-5fb7-4ff8-8420-790fc3c3d958",
   "metadata": {},
   "outputs": [],
   "source": [
    "def selectionSortIterative(L: list, cmp):\n",
    "    for i in range(len(L)-1):\n",
    "        x = i\n",
    "        for j in range(i+1, len(L)):\n",
    "            if not cmp(L[x], L[j]):\n",
    "                x = j\n",
    "        tmp = L[x]\n",
    "        L[x] = L[i]\n",
    "        L[i] = tmp\n",
    "    return L"
   ]
  },
  {
   "cell_type": "code",
   "execution_count": 7,
   "id": "235b4021-38f4-4d65-8b5f-fbc206c3f6a0",
   "metadata": {},
   "outputs": [],
   "source": [
    "def selectionSortRecursive(L: list, cmp):\n",
    "    if L == []:\n",
    "        return L\n",
    "    x, R = select(L, cmp)\n",
    "    return [x] + selectionSortRecursive(R, cmp)\n",
    "\n",
    "def select(L: list, cmp):\n",
    "    x = L.pop(0)\n",
    "    if L == []:\n",
    "        return x, []\n",
    "    y = L.pop(0)\n",
    "    if cmp(x, y):\n",
    "        x, R = select([x] + L, cmp)\n",
    "        return x, [y] + R\n",
    "    else:\n",
    "        y, R = select([y] + L, cmp)\n",
    "        return y, [x] + R"
   ]
  },
  {
   "cell_type": "markdown",
   "id": "e789ee4a-e5f3-486a-a02c-0231cfa3aa35",
   "metadata": {
    "jp-MarkdownHeadingCollapsed": true,
    "tags": []
   },
   "source": [
    "## Merge Sort"
   ]
  },
  {
   "cell_type": "code",
   "execution_count": 8,
   "id": "c02461ed-beff-4ff8-ab0c-f2cacdafe280",
   "metadata": {},
   "outputs": [],
   "source": [
    "def mergeSortRecursive(L, cmp):\n",
    "    n = len(L)\n",
    "    if n < 2:\n",
    "        return L\n",
    "    h = n//2\n",
    "    L1, L2 = mergeSortRecursive(L[:h], cmp), mergeSortRecursive(L[h:], cmp)\n",
    "    return mergeRecursive(L1, L2, cmp)\n",
    "\n",
    "def mergeRecursive(L, R, cmp):\n",
    "    if L == []:\n",
    "        return R\n",
    "    if R == []:\n",
    "        return L\n",
    "    if cmp(L[0], R[0]):\n",
    "        return L[0:1] + mergeRecursive(L[1:], R, cmp)\n",
    "    else:\n",
    "        return R[0:1] + mergeRecursive(L, R[1:], cmp)"
   ]
  },
  {
   "cell_type": "code",
   "execution_count": 9,
   "id": "e6da1642-d45b-4a06-9244-4c20c99830d7",
   "metadata": {},
   "outputs": [],
   "source": [
    "def mergeSortHalfRecursive(L, cmp):\n",
    "    n = len(L)\n",
    "    if n < 2:\n",
    "        return L\n",
    "    h = n//2\n",
    "    L1, L2 = mergeSortHalfRecursive(L[:h], cmp), mergeSortHalfRecursive(L[h:], cmp)\n",
    "    return mergeHalfRecursive(L1, L2, cmp)\n",
    "\n",
    "def mergeHalfRecursive(L, R, cmp):\n",
    "    S = []\n",
    "    while len(L) > 0 and len(R) > 0:\n",
    "        if cmp(L[0], R[0]):\n",
    "            S.append(L.pop(0))\n",
    "        else:\n",
    "            S.append(R.pop(0))\n",
    "    if L == []:\n",
    "        return S + R\n",
    "    elif R == []:\n",
    "        return S + L\n",
    "    else:\n",
    "        return S"
   ]
  },
  {
   "cell_type": "code",
   "execution_count": 10,
   "id": "baad2a03-157e-4e39-9a05-6e7ae65edf3c",
   "metadata": {},
   "outputs": [],
   "source": [
    "def mergeSortInPlace(L, cmp):\n",
    "    A = L[:]\n",
    "    mSortInPlace(L, A, 0, len(L))\n",
    "    return L\n",
    "\n",
    "def mSortInPlace(L, A, start, end):\n",
    "    if end - start < 2:\n",
    "        return\n",
    "    h = (start + end) // 2\n",
    "    mSortInPlace(L, A, start, h)\n",
    "    mSortInPlace(L, A, h, end)\n",
    "    mergeInPlace(L, A, start, h, end)\n",
    "\n",
    "def mergeInPlace(L, A, start, middle, end):\n",
    "    A[start:end] = L[start:end]\n",
    "    idx = start\n",
    "    i = start\n",
    "    j = middle\n",
    "    while i < middle and j < end:\n",
    "        if cmp(A[i], A[j]):\n",
    "            L[idx] = A[i]\n",
    "            i += 1\n",
    "        else:\n",
    "            L[idx] = A[j]\n",
    "            j += 1\n",
    "        idx += 1\n",
    "    if i < middle:\n",
    "        L[idx:end] = A[i:middle]\n",
    "    elif j < end:\n",
    "        L[idx:end] = A[j:end]"
   ]
  },
  {
   "cell_type": "code",
   "execution_count": 11,
   "id": "29ac0655-0831-4373-a9f3-4c37818aa13b",
   "metadata": {},
   "outputs": [],
   "source": [
    "def mergeSortIterative(L, cmp):\n",
    "    A = L[:]\n",
    "    mSortIterative(L, A)\n",
    "    return L\n",
    "\n",
    "def mSortIterative(L, A):\n",
    "    n = 1\n",
    "    while n < len(L):\n",
    "        k = 0\n",
    "        while n * k + n < len(L):\n",
    "            top = min(n * k + 2 * n, len(L))\n",
    "            mergeIterative(L, n * k, n * k + n, top, A)\n",
    "            k += 2    \n",
    "        n *= 2\n",
    "\n",
    "def mergeIterative(L, start, middle, end, A):\n",
    "    A[start:end] = L[start:end]\n",
    "    idx1 = start\n",
    "    idx2 = middle\n",
    "    i    = start\n",
    "    while idx1 < middle and idx2 < end:\n",
    "        if A[idx1] <= A[idx2]:\n",
    "            L[i]  = A[idx1]\n",
    "            idx1 += 1\n",
    "        else:\n",
    "            L[i]  = A[idx2]\n",
    "            idx2 += 1\n",
    "        i += 1\n",
    "    if idx1 < middle:\n",
    "        L[i:end] = A[idx1:middle]\n",
    "    if idx2 < end:\n",
    "        L[i:end] = A[idx2:end]    "
   ]
  },
  {
   "cell_type": "markdown",
   "id": "ae031983-4d8f-43a1-9e34-97b9b6e4d627",
   "metadata": {},
   "source": [
    "### Three-Way Merge Sort"
   ]
  },
  {
   "cell_type": "code",
   "execution_count": 12,
   "id": "0ae868bb-04da-4dec-8ad4-79e00b57719e",
   "metadata": {},
   "outputs": [],
   "source": [
    "def threeWayMSort(L, cmp):\n",
    "    pass"
   ]
  },
  {
   "cell_type": "code",
   "execution_count": 13,
   "id": "05c22986-0f98-4d3e-b9d5-fcee3373fa15",
   "metadata": {},
   "outputs": [],
   "source": [
    "def threeWayMSortInPlace(L, cmp):\n",
    "    pass"
   ]
  },
  {
   "cell_type": "markdown",
   "id": "da122472-5386-4c8c-bfe6-52dbced0e60e",
   "metadata": {
    "jp-MarkdownHeadingCollapsed": true,
    "tags": []
   },
   "source": [
    "## Quick Sort"
   ]
  },
  {
   "cell_type": "code",
   "execution_count": 14,
   "id": "c625c16d-c063-4bcf-ab59-b8341a07c352",
   "metadata": {},
   "outputs": [],
   "source": [
    "def quickSort(L, cmp):\n",
    "    if L == []:\n",
    "        return L\n",
    "    pivot, *R = L\n",
    "    B = [x for x in R if not cmp(x, pivot)]\n",
    "    S = [x for x in R if cmp(x, pivot)]\n",
    "    return quickSort(S, cmp) + [pivot] + quickSort(B, cmp)"
   ]
  },
  {
   "cell_type": "markdown",
   "id": "2fc6d768-ec4b-45ab-93b0-39209ee7c5bf",
   "metadata": {
    "tags": []
   },
   "source": [
    "### Dual-Pivot-QuickSort"
   ]
  },
  {
   "cell_type": "code",
   "execution_count": 15,
   "id": "e453a2d1-11da-4890-b91a-51ed781a1cdf",
   "metadata": {},
   "outputs": [],
   "source": [
    "def dualPivotQuickSort(L, cmp):\n",
    "    if len(L) <= 1:\n",
    "        return L\n",
    "    x, y = L.pop(0), L.pop(-1)\n",
    "    p = min(x, y)\n",
    "    q = max(x, y)\n",
    "    \n",
    "    S = [x for x in L if cmp(x, p) and x != p]\n",
    "    M = [x for x in L if cmp(p, x) and cmp(x, q)]\n",
    "    B = [x for x in L if not cmp(x, q)]\n",
    "    if p == q:\n",
    "        return dualPivotQuickSort(S, cmp) + [p] + M + [q] + dualPivotQuickSort(B, cmp)\n",
    "    else:\n",
    "        return dualPivotQuickSort(S, cmp) + [p] + dualPivotQuickSort(M, cmp) + [q] + dualPivotQuickSort(B, cmp)"
   ]
  },
  {
   "cell_type": "code",
   "execution_count": 16,
   "id": "f0b08d56-d09e-499c-9565-d36b01e465bd",
   "metadata": {},
   "outputs": [],
   "source": [
    "def dualPivotQuickSortInPlace(L, cmp):\n",
    "    dualPivotQSortInPlace(L, 0, len(L)-1, cmp)\n",
    "    return L\n",
    "\n",
    "def dualPivotQSortInPlace(L, start, end, cmp):\n",
    "    if end <= start:\n",
    "        return\n",
    "    i, j = dualPivotPartitionInPlace(L, start, end, cmp)\n",
    "    #print((i, j, L[start:end+1]))\n",
    "    dualPivotQSortInPlace(L, start, i-1, cmp)\n",
    "    if L[i] != L[j]:\n",
    "        dualPivotQSortInPlace(L, i+1, j-1, cmp)\n",
    "    dualPivotQSortInPlace(L, j+1, end, cmp)"
   ]
  },
  {
   "cell_type": "markdown",
   "id": "5fe5e03b-0bd5-4253-84ae-49548133a5c5",
   "metadata": {},
   "source": [
    "Loop Invariant for dualPivotPartition:\n",
    "\n",
    "$$\n",
    "\\forall x \\in \\{p+1, ..., i\\} L[x] < L[p] \\\\\n",
    "\\forall x \\in \\{i+1, ..., j-1\\} L[x] \\ge L[p] \\land L[x] \\le L[q] \\\\\n",
    "\\forall x \\in \\{j+1, ..., k\\} L[x] > L[p] \\\\\n",
    "$$"
   ]
  },
  {
   "cell_type": "code",
   "execution_count": 17,
   "id": "d1f8054f-f788-41cc-a4fe-47fdb1d2bd8e",
   "metadata": {},
   "outputs": [],
   "source": [
    "def dualPivotPartitionInPlace(L, p, q, cmp):\n",
    "    if L[p] > L[q]:\n",
    "        swap(p, q, L)\n",
    "    if q - p < 2:\n",
    "        return p, q\n",
    "    \n",
    "    i, j = p, p+1\n",
    "    for k in range(p+1, q):\n",
    "        #print(L[p:k+1])\n",
    "        if L[k] < L[p]:\n",
    "            i += 1\n",
    "            j += 1\n",
    "            swap(j-1, k, L)\n",
    "            swap(i, j-1, L)\n",
    "        elif L[k] <= L[q]:\n",
    "            j += 1\n",
    "            swap(j-1, k, L)\n",
    "        else:\n",
    "            pass\n",
    "        #print((i-p, j-p, k-p, L[p:k+1]))\n",
    "    swap(j, q, L)\n",
    "    swap(i, p, L)\n",
    "    return i, j"
   ]
  },
  {
   "cell_type": "markdown",
   "id": "9f05cbd7-8697-4eaf-bc45-3e802478f84f",
   "metadata": {
    "tags": []
   },
   "source": [
    "## Counting Sort"
   ]
  },
  {
   "cell_type": "code",
   "execution_count": null,
   "id": "4d652be7-b39a-4ee2-be66-d7307c8a49bb",
   "metadata": {},
   "outputs": [],
   "source": []
  },
  {
   "cell_type": "markdown",
   "id": "07bf1f1a-1c17-4f25-b826-88a44d9a18a4",
   "metadata": {
    "tags": []
   },
   "source": [
    "# Testing"
   ]
  },
  {
   "cell_type": "markdown",
   "id": "14480a5c-2185-4205-b620-69dbd3541d0e",
   "metadata": {
    "jp-MarkdownHeadingCollapsed": true,
    "tags": []
   },
   "source": [
    "## Testing Methods"
   ]
  },
  {
   "cell_type": "code",
   "execution_count": 18,
   "id": "ad1e7b98-22be-41d7-9160-80b3f654b574",
   "metadata": {},
   "outputs": [],
   "source": [
    "import matplotlib.pyplot as plt\n",
    "import random as rnd\n",
    "from collections import Counter\n",
    "from timeit import timeit"
   ]
  },
  {
   "cell_type": "code",
   "execution_count": 19,
   "id": "2b40737e-3905-4739-a873-e13da95c75eb",
   "metadata": {},
   "outputs": [],
   "source": [
    "def isOrdered(L, cmp):\n",
    "    for i in range(len(L) - 1):\n",
    "        if not cmp(L[i], L[i+1]):\n",
    "            return False\n",
    "    return True"
   ]
  },
  {
   "cell_type": "code",
   "execution_count": 20,
   "id": "491136d7-f93c-4809-b474-d480e32c889e",
   "metadata": {},
   "outputs": [],
   "source": [
    "def sameElements(M, N):\n",
    "        return Counter(M) == Counter(N)"
   ]
  },
  {
   "cell_type": "code",
   "execution_count": 21,
   "id": "e24c6b03-9461-44f7-95a6-96acaf9ed44e",
   "metadata": {},
   "outputs": [],
   "source": [
    "def singleTest(sort, listLength:int=1_000, compare=cmp, maxEl:int=10_000, minEl:int=0, toLog=True):\n",
    "    L = [ rnd.randrange(minEl, maxEl) for x in range(listLength) ]\n",
    "    S = sort(L[:], compare)\n",
    "\n",
    "    if not isOrdered(S, compare):\n",
    "        raise testFailed(f'The list is not ordered correctly: {S}')\n",
    "    if not sameElements(L, S):\n",
    "        raise testFailed(f'The sorted list doesn\\'t have the same elements as before')\n",
    "    del S\n",
    "    del L\n",
    "    if toLog:\n",
    "        print('.', end='')\n",
    "    return True"
   ]
  },
  {
   "cell_type": "code",
   "execution_count": 22,
   "id": "965924ea-e530-47ea-9b01-958b95c9cc66",
   "metadata": {},
   "outputs": [],
   "source": [
    "def test(sort, testAmounts=100, listLength:int=1_000, compare=cmp, maxEl:int=10_000, minEl:int=0, precision=3, toLog=True, forPrinting=True):\n",
    "    try:\n",
    "        t = timeit(lambda: singleTest(sort, listLength, compare, maxEl, minEl, toLog), number=testAmounts)\n",
    "        t = round(t, precision)\n",
    "        if forPrinting:\n",
    "            return str(t) + 's'\n",
    "        return t\n",
    "    except testFailed as msg:\n",
    "        print(msg)"
   ]
  },
  {
   "cell_type": "code",
   "execution_count": 23,
   "id": "cdb79c44-90c0-434f-a59f-ab1d6f0a4699",
   "metadata": {},
   "outputs": [],
   "source": [
    "def bestAlgos(sorts, testAmounts=100, listLength=1_000, compare=cmp, maxEl=10_000, minEl=0, precision=3, toLog=True):\n",
    "    S = []\n",
    "    for sort in sorts:\n",
    "        S.append((sort.__name__, test(sort, testAmounts, listLength, compare, maxEl, minEl, precision, toLog, False)))\n",
    "    return mergeSortHalfRecursive(S, cmp=lambda x, y: x[1] <= y[1])"
   ]
  },
  {
   "cell_type": "code",
   "execution_count": 90,
   "id": "3c69c6a8-a066-4246-be5f-fb683304bfe3",
   "metadata": {},
   "outputs": [],
   "source": [
    "def plotBest(L, title=\"Sorting Algorithms\", xlabel=\"Time in seconds\", ylabel=\"Algorithms\", dark_background=True):\n",
    "    if dark_background:\n",
    "        plt.style.use('dark_background')\n",
    "    plt.xlabel(xlabel)\n",
    "    plt.ylabel(ylabel)\n",
    "    plt.title(title)\n",
    "    plt.xticks(range(len(L)+1), [0] + [x[1] for x in L])\n",
    "    plt.barh([''] + [x[0] for x in L], range(len(L)+1))\n",
    "    plt.show()"
   ]
  },
  {
   "cell_type": "markdown",
   "id": "6cb64c40-faba-4750-8886-7d6c47cc894d",
   "metadata": {},
   "source": [
    "## Tests"
   ]
  },
  {
   "cell_type": "code",
   "execution_count": 94,
   "id": "e22fc6b8-0886-4698-bb66-1565cbd334e3",
   "metadata": {},
   "outputs": [
    {
     "name": "stdout",
     "output_type": "stream",
     "text": [
      "......................................................................................................................................................................................................................................................................................................................................................................................................................................................................................................................................................................"
     ]
    },
    {
     "data": {
      "image/png": "[encoded data removed]",
      "text/plain": [
       "<Figure size 432x288 with 1 Axes>"
      ]
     },
     "metadata": {},
     "output_type": "display_data"
    }
   ],
   "source": [
    "algos = [insertionSortRecursive, insertionSortIterative, selectionSortRecursive, selectionSortIterative, mergeSortRecursive, mergeSortHalfRecursive, mergeSortInPlace, mergeSortIterative, quickSort, dualPivotQuickSort, dualPivotQuickSortInPlace]\n",
    "plotBest(bestAlgos(algos, testAmounts=50, listLength=1_000), title=\"Sorting Algorithms with lists of 1k elements\")"
   ]
  },
  {
   "cell_type": "code",
   "execution_count": 96,
   "id": "b715cb37-d601-4892-9a27-97fe600c1cfb",
   "metadata": {},
   "outputs": [
    {
     "name": "stdout",
     "output_type": "stream",
     "text": [
      ".........................................................................................................................................................................................................................................................."
     ]
    },
    {
     "data": {
      "image/png": "[encoded data removed]",
      "text/plain": [
       "<Figure size 432x288 with 1 Axes>"
      ]
     },
     "metadata": {},
     "output_type": "display_data"
    },
    {
     "name": "stdout",
     "output_type": "stream",
     "text": [
      ".........................................................................................................................................................................................................................................................."
     ]
    },
    {
     "data": {
      "image/png": "[encoded data removed]",
      "text/plain": [
       "<Figure size 432x288 with 1 Axes>"
      ]
     },
     "metadata": {},
     "output_type": "display_data"
    },
    {
     "name": "stdout",
     "output_type": "stream",
     "text": [
      ".........................................................................................................................................................................................................................................................."
     ]
    },
    {
     "data": {
      "image/png": "[encoded data removed]",
      "text/plain": [
       "<Figure size 432x288 with 1 Axes>"
      ]
     },
     "metadata": {},
     "output_type": "display_data"
    }
   ],
   "source": [
    "algos = [mergeSortIterative, mergeSortInPlace, quickSort, dualPivotQuickSort, dualPivotQuickSortInPlace]\n",
    "plotBest(bestAlgos(algos, testAmounts=50, listLength=500), \"Sorting Algorithms with lists of 500 elements\")\n",
    "plotBest(bestAlgos(algos, testAmounts=50, listLength=5_000), \"Sorting Algorithms with lists of 5k elements\")\n",
    "plotBest(bestAlgos(algos, testAmounts=50, listLength=50_000), \"Sorting Algorithms with lists of 50k elements\")\n",
    "plotBest(bestAlgos(algos, testAmounts=50, listLength=100_000), \"Sorting Algorithms with lists of 100k elements\")"
   ]
  }
 ],
 "metadata": {
  "kernelspec": {
   "display_name": "Python 3 (ipykernel)",
   "language": "python",
   "name": "python3"
  },
  "language_info": {
   "codemirror_mode": {
    "name": "ipython",
    "version": 3
   },
   "file_extension": ".py",
   "mimetype": "text/x-python",
   "name": "python",
   "nbconvert_exporter": "python",
   "pygments_lexer": "ipython3",
   "version": "3.10.4"
  }
 },
 "nbformat": 4,
 "nbformat_minor": 5
}
