{
 "cells": [
  {
   "cell_type": "markdown",
   "id": "c8f6c3d2-2a84-4ccd-8282-52176f21204e",
   "metadata": {
    "tags": []
   },
   "source": [
    "# Fibonacci\n",
    "\n",
    "Just for testing purposes, the following showcases attempts at using a simple recursive, an optimized recursive approach and using the solved version of the recurrence formula for the fibonacci series.\n",
    "\n",
    "As shown in the tests below, the optimized dynamic programming solution is the best option, as it always gives the correct result and is fast"
   ]
  },
  {
   "cell_type": "code",
   "execution_count": 56,
   "id": "0c4c467b-14a9-4b74-b6c5-87b629f78260",
   "metadata": {},
   "outputs": [],
   "source": [
    "import math"
   ]
  },
  {
   "cell_type": "code",
   "execution_count": 36,
   "id": "9fef6db2-5556-494f-a46d-46b144fe67bd",
   "metadata": {},
   "outputs": [],
   "source": [
    "def fibRec(n: int):\n",
    "    if n == 0:\n",
    "        return 0\n",
    "    elif n == 1:\n",
    "        return 1\n",
    "    return fibRec(n-1) + fibRec(n-2)"
   ]
  },
  {
   "cell_type": "code",
   "execution_count": 37,
   "id": "8361f2c4-049e-475c-b3cc-3de4b011bbdb",
   "metadata": {},
   "outputs": [],
   "source": [
    "def fibDyn(n: int, memo = {0: 0, 1: 1}):\n",
    "    if n in memo:\n",
    "        return memo[n]\n",
    "    memo[n-2] = fibDyn(n-2)\n",
    "    memo[n-1] = fibDyn(n-1)\n",
    "    memo[n] = memo[n-1] + memo[n-2]\n",
    "    return memo[n]"
   ]
  },
  {
   "cell_type": "code",
   "execution_count": 44,
   "id": "dddca4e2-0d48-4448-b242-3a0d0e5ad67d",
   "metadata": {},
   "outputs": [],
   "source": [
    "def fibSimple(n: int):\n",
    "    A = ((1 + math.sqrt(5)) / 2) ** n\n",
    "    B = 2 / (1 + math.sqrt(5)) ** n\n",
    "    C = math.cos(math.pi * n)\n",
    "    D = A - B * C\n",
    "    return round(D / math.sqrt(5))"
   ]
  },
  {
   "cell_type": "markdown",
   "id": "cbfa7d98-2534-4564-abe3-5b4d768ed4cc",
   "metadata": {},
   "source": [
    "## Testing"
   ]
  },
  {
   "cell_type": "code",
   "execution_count": 40,
   "id": "1ab2f691-1ef3-42b9-8fff-2d6e1e06a00e",
   "metadata": {},
   "outputs": [
    {
     "ename": "AssertionError",
     "evalue": "At f(71) the result was 308061521170129 and 308061521170130",
     "output_type": "error",
     "traceback": [
      "\u001b[1;31m---------------------------------------------------------------------------\u001b[0m",
      "\u001b[1;31mAssertionError\u001b[0m                            Traceback (most recent call last)",
      "\u001b[1;32mC:\\Users\\ADMINI~1\\AppData\\Local\\Temp/ipykernel_17004/3910341250.py\u001b[0m in \u001b[0;36m<module>\u001b[1;34m\u001b[0m\n\u001b[0;32m      2\u001b[0m     \u001b[0ma\u001b[0m \u001b[1;33m=\u001b[0m \u001b[0mfibDyn\u001b[0m\u001b[1;33m(\u001b[0m\u001b[0mi\u001b[0m\u001b[1;33m)\u001b[0m\u001b[1;33m\u001b[0m\u001b[1;33m\u001b[0m\u001b[0m\n\u001b[0;32m      3\u001b[0m     \u001b[0mb\u001b[0m \u001b[1;33m=\u001b[0m \u001b[0mfibSimple\u001b[0m\u001b[1;33m(\u001b[0m\u001b[0mi\u001b[0m\u001b[1;33m)\u001b[0m\u001b[1;33m\u001b[0m\u001b[1;33m\u001b[0m\u001b[0m\n\u001b[1;32m----> 4\u001b[1;33m     \u001b[1;32massert\u001b[0m \u001b[0ma\u001b[0m \u001b[1;33m==\u001b[0m \u001b[0mb\u001b[0m\u001b[1;33m,\u001b[0m \u001b[1;34mf'At f({i}) the result was {a} and {b}'\u001b[0m\u001b[1;33m\u001b[0m\u001b[1;33m\u001b[0m\u001b[0m\n\u001b[0m",
      "\u001b[1;31mAssertionError\u001b[0m: At f(71) the result was 308061521170129 and 308061521170130"
     ]
    }
   ],
   "source": [
    "for i in range(100):\n",
    "    a = fibDyn(i)\n",
    "    b = fibSimple(i)\n",
    "    assert a == b, f'At f({i}) the result was {a} and {b}'"
   ]
  },
  {
   "cell_type": "markdown",
   "id": "67fc8b97-3e5b-4d25-9402-3dafdedaba1b",
   "metadata": {},
   "source": [
    "fibSimple() is not accurate for *n* larger than 71, because floating point arithmetic is not very accurate\n",
    "\n",
    "For even larger *n*, fibSimple() fails due to overflow errors. (When *n* is 1000 for example)"
   ]
  },
  {
   "cell_type": "code",
   "execution_count": 54,
   "id": "89a4216f-d7fa-4016-890e-1036c3fb0324",
   "metadata": {},
   "outputs": [
    {
     "name": "stdout",
     "output_type": "stream",
     "text": [
      "101 ns ± 1.18 ns per loop (mean ± std. dev. of 7 runs, 10000000 loops each)\n"
     ]
    }
   ],
   "source": [
    "%%timeit\n",
    "fibDyn(70)"
   ]
  },
  {
   "cell_type": "code",
   "execution_count": 55,
   "id": "af70645e-debe-407a-99ce-b1b4de71599d",
   "metadata": {},
   "outputs": [
    {
     "name": "stdout",
     "output_type": "stream",
     "text": [
      "1.12 µs ± 13.1 ns per loop (mean ± std. dev. of 7 runs, 1000000 loops each)\n"
     ]
    }
   ],
   "source": [
    "%%timeit\n",
    "fibSimple(70)"
   ]
  },
  {
   "cell_type": "code",
   "execution_count": 53,
   "id": "9d35fb3f-f66a-4ed8-abfd-5077f5d2a47a",
   "metadata": {},
   "outputs": [
    {
     "name": "stdout",
     "output_type": "stream",
     "text": [
      "119 ns ± 1.96 ns per loop (mean ± std. dev. of 7 runs, 10000000 loops each)\n"
     ]
    }
   ],
   "source": [
    "%%timeit\n",
    "fibDyn(300)"
   ]
  },
  {
   "cell_type": "code",
   "execution_count": 52,
   "id": "81d0bfad-9092-4fc1-a847-3beea4d5f4f8",
   "metadata": {},
   "outputs": [
    {
     "name": "stdout",
     "output_type": "stream",
     "text": [
      "1.22 µs ± 12.3 ns per loop (mean ± std. dev. of 7 runs, 1000000 loops each)\n"
     ]
    }
   ],
   "source": [
    "%%timeit\n",
    "fibSimple(300)"
   ]
  }
 ],
 "metadata": {
  "kernelspec": {
   "display_name": "Python 3 (ipykernel)",
   "language": "python",
   "name": "python3"
  },
  "language_info": {
   "codemirror_mode": {
    "name": "ipython",
    "version": 3
   },
   "file_extension": ".py",
   "mimetype": "text/x-python",
   "name": "python",
   "nbconvert_exporter": "python",
   "pygments_lexer": "ipython3",
   "version": "3.10.4"
  }
 },
 "nbformat": 4,
 "nbformat_minor": 5
}
