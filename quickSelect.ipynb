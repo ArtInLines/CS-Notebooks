{
 "cells": [
  {
   "cell_type": "code",
   "execution_count": 71,
   "id": "c319883a-3042-4e64-a82e-e361f884d11f",
   "metadata": {},
   "outputs": [],
   "source": [
    "def swap(i, j, L):\n",
    "    tmp = L[j]\n",
    "    L[j] = L[i]\n",
    "    L[i] = tmp"
   ]
  },
  {
   "cell_type": "code",
   "execution_count": 72,
   "id": "6105a402-6942-497f-bd45-bc80ee4f7e8c",
   "metadata": {
    "tags": []
   },
   "outputs": [],
   "source": [
    "def quickInsertionSelect(L, k):\n",
    "    L[:k] = sorted(L[:k])\n",
    "    for i in range(k, len(L)):\n",
    "        val = L[i]\n",
    "        j = k-1\n",
    "        while j >= 0 and L[j] > val:\n",
    "            L[j+1] = L[j]\n",
    "            j -= 1\n",
    "        L[j+1] = val\n",
    "    return L[:k]"
   ]
  },
  {
   "cell_type": "code",
   "execution_count": 73,
   "id": "c93fc8b9-2166-417a-ae9b-f4c6857ff422",
   "metadata": {},
   "outputs": [],
   "source": [
    "def quickSelect(L, k):\n",
    "    if len(L) <= k:\n",
    "        return L\n",
    "    x, *R = L\n",
    "    S = [n for n in R if n <= x]\n",
    "    \n",
    "    if k <= len(S):\n",
    "        return quickSelect(S, k)\n",
    "    if k == len(S) + 1:\n",
    "        return S + [x]\n",
    "    \n",
    "    B = [y for y in R if y > x]\n",
    "    return S + [x] + quickSelect(B, k - len(S) - 1)"
   ]
  },
  {
   "cell_type": "code",
   "execution_count": 74,
   "id": "42d73447-83bf-49a3-ac08-2b8a9e1ea032",
   "metadata": {},
   "outputs": [],
   "source": [
    "def quickSelectInPlace(L, k):\n",
    "    qSelectInPlace(L, k, 0, len(L))\n",
    "    return L[:k]\n",
    "\n",
    "def qSelectInPlace(L, k, start, end):\n",
    "    if end - start <= k:\n",
    "        return\n",
    "    p = qsPartitionInPlace(L, start, end)\n",
    "    if p - start >= k:\n",
    "        return qSelectInPlace(L, k, start, p)\n",
    "    elif p - start + 1 == k:\n",
    "        return\n",
    "    else:\n",
    "        qSelectInPlace(L, k-(p-start+1), p+1, end)\n",
    "    \n",
    "def qsPartitionInPlace(L, start, end):\n",
    "    p = start\n",
    "    for i in range(start+1, end):\n",
    "        if L[i] <= L[start]:\n",
    "            p += 1\n",
    "            swap(p, i, L)\n",
    "    swap(p, start, L)\n",
    "    return p"
   ]
  },
  {
   "cell_type": "code",
   "execution_count": 75,
   "id": "eb5075e7-7e2c-4f32-8b0a-eb84e1b77c0b",
   "metadata": {},
   "outputs": [],
   "source": [
    "def selectKS(L, k):\n",
    "    quickSelectKS(0, len(L) - 1, L, k)\n",
    "    return L[:k]\n",
    "\n",
    "def quickSelectKS(start, end, L, k):\n",
    "    n = end + 1 - start\n",
    "    assert k < n, f'quickSelect({start}, {end}, {L}, {k})'\n",
    "    if n == k:\n",
    "        return\n",
    "    m = partitionKS(start, end, L)  # m is the split index\n",
    "    if k <= m - start:\n",
    "        quickSelectKS(start, m-1, L, k)\n",
    "        return\n",
    "    if k == m + 1 - start:\n",
    "        return\n",
    "    quickSelectKS(m+1, end, L, k - (m+1 - start))\n",
    "    return\n",
    "\n",
    "def partitionKS(start, end, L):\n",
    "    pivot = L[end]\n",
    "    left  = start - 1\n",
    "    for idx in range(start, end):\n",
    "        if L[idx] <= pivot:\n",
    "            left += 1\n",
    "            swap(left, idx, L)\n",
    "    swap(left + 1, end, L)\n",
    "    return left + 1"
   ]
  },
  {
   "cell_type": "code",
   "execution_count": 76,
   "id": "b957b525-cb72-4463-abba-f123f93d1635",
   "metadata": {},
   "outputs": [],
   "source": [
    "k = 100"
   ]
  },
  {
   "cell_type": "code",
   "execution_count": 77,
   "id": "024c4c75-7b3c-4171-aa42-28bd2f6103e7",
   "metadata": {},
   "outputs": [],
   "source": [
    "import random as rnd\n",
    "from collections import Counter"
   ]
  },
  {
   "cell_type": "code",
   "execution_count": 78,
   "id": "f058a5b2-f825-4c45-9fb2-68841592477b",
   "metadata": {},
   "outputs": [],
   "source": [
    "def sameElements(M, N):\n",
    "        return Counter(M) == Counter(N)"
   ]
  },
  {
   "cell_type": "code",
   "execution_count": 79,
   "id": "3fa1bb77-6dc0-43f6-9417-599b37eb7d28",
   "metadata": {},
   "outputs": [
    {
     "name": "stdout",
     "output_type": "stream",
     "text": [
      "....................................................................................................\n",
      "All tests successful\n"
     ]
    }
   ],
   "source": [
    "minEl = 0\n",
    "maxEl = 1_000\n",
    "for i in range(100):\n",
    "    L = [ rnd.randrange(minEl, maxEl) for x in range(i * 100) ]\n",
    "    S = quickSelect(L[:], k)\n",
    "    L = sorted(L)[:k]\n",
    "    assert sameElements(L, S), f'Failed:\\n{L}\\n{S}'\n",
    "    print('.', end='')\n",
    "print('\\nAll tests successful')"
   ]
  },
  {
   "cell_type": "code",
   "execution_count": 70,
   "id": "b3da900f-fdce-4a1d-9439-03c3c0e6a4ff",
   "metadata": {},
   "outputs": [
    {
     "ename": "AssertionError",
     "evalue": "quickSelect(0, -1, [], 100)",
     "output_type": "error",
     "traceback": [
      "\u001b[1;31m---------------------------------------------------------------------------\u001b[0m",
      "\u001b[1;31mAssertionError\u001b[0m                            Traceback (most recent call last)",
      "\u001b[1;32mC:\\Users\\ADMINI~1\\AppData\\Local\\Temp/ipykernel_10544/2131946422.py\u001b[0m in \u001b[0;36m<module>\u001b[1;34m\u001b[0m\n\u001b[0;32m      3\u001b[0m \u001b[1;32mfor\u001b[0m \u001b[0mi\u001b[0m \u001b[1;32min\u001b[0m \u001b[0mrange\u001b[0m\u001b[1;33m(\u001b[0m\u001b[1;36m100\u001b[0m\u001b[1;33m)\u001b[0m\u001b[1;33m:\u001b[0m\u001b[1;33m\u001b[0m\u001b[1;33m\u001b[0m\u001b[0m\n\u001b[0;32m      4\u001b[0m     \u001b[0mL\u001b[0m \u001b[1;33m=\u001b[0m \u001b[1;33m[\u001b[0m \u001b[0mrnd\u001b[0m\u001b[1;33m.\u001b[0m\u001b[0mrandrange\u001b[0m\u001b[1;33m(\u001b[0m\u001b[0mminEl\u001b[0m\u001b[1;33m,\u001b[0m \u001b[0mmaxEl\u001b[0m\u001b[1;33m)\u001b[0m \u001b[1;32mfor\u001b[0m \u001b[0mx\u001b[0m \u001b[1;32min\u001b[0m \u001b[0mrange\u001b[0m\u001b[1;33m(\u001b[0m\u001b[0mi\u001b[0m \u001b[1;33m*\u001b[0m \u001b[1;36m100\u001b[0m\u001b[1;33m)\u001b[0m \u001b[1;33m]\u001b[0m\u001b[1;33m\u001b[0m\u001b[1;33m\u001b[0m\u001b[0m\n\u001b[1;32m----> 5\u001b[1;33m     \u001b[0mS\u001b[0m \u001b[1;33m=\u001b[0m \u001b[0mselectKS\u001b[0m\u001b[1;33m(\u001b[0m\u001b[0mL\u001b[0m\u001b[1;33m[\u001b[0m\u001b[1;33m:\u001b[0m\u001b[1;33m]\u001b[0m\u001b[1;33m,\u001b[0m \u001b[0mk\u001b[0m\u001b[1;33m)\u001b[0m\u001b[1;33m\u001b[0m\u001b[1;33m\u001b[0m\u001b[0m\n\u001b[0m\u001b[0;32m      6\u001b[0m     \u001b[0mL\u001b[0m \u001b[1;33m=\u001b[0m \u001b[0msorted\u001b[0m\u001b[1;33m(\u001b[0m\u001b[0mL\u001b[0m\u001b[1;33m)\u001b[0m\u001b[1;33m[\u001b[0m\u001b[1;33m:\u001b[0m\u001b[0mk\u001b[0m\u001b[1;33m]\u001b[0m\u001b[1;33m\u001b[0m\u001b[1;33m\u001b[0m\u001b[0m\n\u001b[0;32m      7\u001b[0m     \u001b[1;32massert\u001b[0m \u001b[0msameElements\u001b[0m\u001b[1;33m(\u001b[0m\u001b[0mL\u001b[0m\u001b[1;33m,\u001b[0m \u001b[0mS\u001b[0m\u001b[1;33m)\u001b[0m\u001b[1;33m,\u001b[0m \u001b[1;34mf'Failed:\\n{L}\\n{S}'\u001b[0m\u001b[1;33m\u001b[0m\u001b[1;33m\u001b[0m\u001b[0m\n",
      "\u001b[1;32mC:\\Users\\ADMINI~1\\AppData\\Local\\Temp/ipykernel_10544/899110432.py\u001b[0m in \u001b[0;36mselectKS\u001b[1;34m(L, k)\u001b[0m\n\u001b[0;32m      1\u001b[0m \u001b[1;32mdef\u001b[0m \u001b[0mselectKS\u001b[0m\u001b[1;33m(\u001b[0m\u001b[0mL\u001b[0m\u001b[1;33m,\u001b[0m \u001b[0mk\u001b[0m\u001b[1;33m)\u001b[0m\u001b[1;33m:\u001b[0m\u001b[1;33m\u001b[0m\u001b[1;33m\u001b[0m\u001b[0m\n\u001b[1;32m----> 2\u001b[1;33m     \u001b[0mquickSelectKS\u001b[0m\u001b[1;33m(\u001b[0m\u001b[1;36m0\u001b[0m\u001b[1;33m,\u001b[0m \u001b[0mlen\u001b[0m\u001b[1;33m(\u001b[0m\u001b[0mL\u001b[0m\u001b[1;33m)\u001b[0m \u001b[1;33m-\u001b[0m \u001b[1;36m1\u001b[0m\u001b[1;33m,\u001b[0m \u001b[0mL\u001b[0m\u001b[1;33m,\u001b[0m \u001b[0mk\u001b[0m\u001b[1;33m)\u001b[0m\u001b[1;33m\u001b[0m\u001b[1;33m\u001b[0m\u001b[0m\n\u001b[0m\u001b[0;32m      3\u001b[0m     \u001b[1;32mreturn\u001b[0m \u001b[0mL\u001b[0m\u001b[1;33m[\u001b[0m\u001b[1;33m:\u001b[0m\u001b[0mk\u001b[0m\u001b[1;33m]\u001b[0m\u001b[1;33m\u001b[0m\u001b[1;33m\u001b[0m\u001b[0m\n\u001b[0;32m      4\u001b[0m \u001b[1;33m\u001b[0m\u001b[0m\n\u001b[0;32m      5\u001b[0m \u001b[1;32mdef\u001b[0m \u001b[0mquickSelectKS\u001b[0m\u001b[1;33m(\u001b[0m\u001b[0mstart\u001b[0m\u001b[1;33m,\u001b[0m \u001b[0mend\u001b[0m\u001b[1;33m,\u001b[0m \u001b[0mL\u001b[0m\u001b[1;33m,\u001b[0m \u001b[0mk\u001b[0m\u001b[1;33m)\u001b[0m\u001b[1;33m:\u001b[0m\u001b[1;33m\u001b[0m\u001b[1;33m\u001b[0m\u001b[0m\n",
      "\u001b[1;32mC:\\Users\\ADMINI~1\\AppData\\Local\\Temp/ipykernel_10544/899110432.py\u001b[0m in \u001b[0;36mquickSelectKS\u001b[1;34m(start, end, L, k)\u001b[0m\n\u001b[0;32m      5\u001b[0m \u001b[1;32mdef\u001b[0m \u001b[0mquickSelectKS\u001b[0m\u001b[1;33m(\u001b[0m\u001b[0mstart\u001b[0m\u001b[1;33m,\u001b[0m \u001b[0mend\u001b[0m\u001b[1;33m,\u001b[0m \u001b[0mL\u001b[0m\u001b[1;33m,\u001b[0m \u001b[0mk\u001b[0m\u001b[1;33m)\u001b[0m\u001b[1;33m:\u001b[0m\u001b[1;33m\u001b[0m\u001b[1;33m\u001b[0m\u001b[0m\n\u001b[0;32m      6\u001b[0m     \u001b[0mn\u001b[0m \u001b[1;33m=\u001b[0m \u001b[0mend\u001b[0m \u001b[1;33m+\u001b[0m \u001b[1;36m1\u001b[0m \u001b[1;33m-\u001b[0m \u001b[0mstart\u001b[0m\u001b[1;33m\u001b[0m\u001b[1;33m\u001b[0m\u001b[0m\n\u001b[1;32m----> 7\u001b[1;33m     \u001b[1;32massert\u001b[0m \u001b[0mk\u001b[0m \u001b[1;33m<=\u001b[0m \u001b[0mn\u001b[0m\u001b[1;33m,\u001b[0m \u001b[1;34mf'quickSelect({start}, {end}, {L}, {k})'\u001b[0m\u001b[1;33m\u001b[0m\u001b[1;33m\u001b[0m\u001b[0m\n\u001b[0m\u001b[0;32m      8\u001b[0m     \u001b[1;32mif\u001b[0m \u001b[0mn\u001b[0m \u001b[1;33m==\u001b[0m \u001b[0mk\u001b[0m\u001b[1;33m:\u001b[0m\u001b[1;33m\u001b[0m\u001b[1;33m\u001b[0m\u001b[0m\n\u001b[0;32m      9\u001b[0m         \u001b[1;32mreturn\u001b[0m\u001b[1;33m\u001b[0m\u001b[1;33m\u001b[0m\u001b[0m\n",
      "\u001b[1;31mAssertionError\u001b[0m: quickSelect(0, -1, [], 100)"
     ]
    }
   ],
   "source": [
    "minEl = 0\n",
    "maxEl = 1_000\n",
    "for i in range(100):\n",
    "    L = [ rnd.randrange(minEl, maxEl) for x in range(i * 100) ]\n",
    "    S = selectKS(L[:], k)\n",
    "    L = sorted(L)[:k]\n",
    "    assert sameElements(L, S), f'Failed:\\n{L}\\n{S}'\n",
    "    print('.', end='')\n",
    "print('\\nAll tests successful')"
   ]
  },
  {
   "cell_type": "code",
   "execution_count": 80,
   "id": "719adaba-40ec-48bc-88d4-b8d7297f3a02",
   "metadata": {},
   "outputs": [
    {
     "name": "stdout",
     "output_type": "stream",
     "text": [
      "....................................................................................................\n",
      "All tests successful\n"
     ]
    }
   ],
   "source": [
    "minEl = 0\n",
    "maxEl = 1_000\n",
    "for i in range(100):\n",
    "    L = [ rnd.randrange(minEl, maxEl) for x in range(i * 1000) ]\n",
    "    S = quickSelectInPlace(L[:], k)\n",
    "    L = sorted(L)[:k]\n",
    "    assert sameElements(L, S), f'Failed:\\n{L}\\n{S}'\n",
    "    print('.', end='')\n",
    "print('\\nAll tests successful')"
   ]
  },
  {
   "cell_type": "code",
   "execution_count": 81,
   "id": "a91f8780-c42f-45a1-9038-45a1479b2707",
   "metadata": {},
   "outputs": [
    {
     "name": "stdout",
     "output_type": "stream",
     "text": [
      "....................................................................................................\n",
      "All tests successful\n"
     ]
    }
   ],
   "source": [
    "minEl = 0\n",
    "maxEl = 1_000\n",
    "for i in range(100):\n",
    "    L = [ rnd.randrange(minEl, maxEl) for x in range(i * 100) ]\n",
    "    S = quickInsertionSelect(L[:], k)\n",
    "    L = sorted(L)[:k]\n",
    "    assert sameElements(L, S), f'Failed:\\n{L}\\n{S}'\n",
    "    print('.', end='')\n",
    "print('\\nAll tests successful')"
   ]
  },
  {
   "cell_type": "code",
   "execution_count": 82,
   "id": "e49951be-2dbf-4b3b-99d9-269e1a6e3984",
   "metadata": {},
   "outputs": [],
   "source": [
    "L = [ rnd.randrange(100_000) for x in range(100_000) ]"
   ]
  },
  {
   "cell_type": "code",
   "execution_count": 83,
   "id": "58eace54-2f08-49ae-8415-05c4a8fadb03",
   "metadata": {},
   "outputs": [
    {
     "name": "stdout",
     "output_type": "stream",
     "text": [
      "15.9 ms ± 535 µs per loop (mean ± std. dev. of 7 runs, 100 loops each)\n"
     ]
    }
   ],
   "source": [
    "%%timeit\n",
    "quickInsertionSelect(L,k)"
   ]
  },
  {
   "cell_type": "code",
   "execution_count": 84,
   "id": "41f8a197-de02-46dd-b955-5b5fe7ece7a4",
   "metadata": {},
   "outputs": [
    {
     "name": "stdout",
     "output_type": "stream",
     "text": [
      "4.34 ms ± 109 µs per loop (mean ± std. dev. of 7 runs, 100 loops each)\n"
     ]
    }
   ],
   "source": [
    "%%timeit\n",
    "quickSelect(L, k)"
   ]
  },
  {
   "cell_type": "code",
   "execution_count": 85,
   "id": "26c685a2-9df3-4d52-94fa-407fa48940b3",
   "metadata": {},
   "outputs": [
    {
     "name": "stdout",
     "output_type": "stream",
     "text": [
      "8.89 ms ± 1.75 ms per loop (mean ± std. dev. of 7 runs, 100 loops each)\n"
     ]
    }
   ],
   "source": [
    "%%timeit\n",
    "quickSelectInPlace(L, k)"
   ]
  },
  {
   "cell_type": "code",
   "execution_count": 86,
   "id": "575a290d-ef34-49a8-9507-b055be8c0435",
   "metadata": {},
   "outputs": [
    {
     "name": "stdout",
     "output_type": "stream",
     "text": [
      "22 ms ± 969 µs per loop (mean ± std. dev. of 7 runs, 10 loops each)\n"
     ]
    }
   ],
   "source": [
    "%%timeit\n",
    "sorted(L)[:k]"
   ]
  },
  {
   "cell_type": "code",
   "execution_count": null,
   "id": "3849cf03-9d25-4858-bf69-fd659946aa31",
   "metadata": {},
   "outputs": [],
   "source": [
    "%%timeit\n",
    "selectKS(L, k)"
   ]
  }
 ],
 "metadata": {
  "kernelspec": {
   "display_name": "Python 3 (ipykernel)",
   "language": "python",
   "name": "python3"
  },
  "language_info": {
   "codemirror_mode": {
    "name": "ipython",
    "version": 3
   },
   "file_extension": ".py",
   "mimetype": "text/x-python",
   "name": "python",
   "nbconvert_exporter": "python",
   "pygments_lexer": "ipython3",
   "version": "3.10.4"
  }
 },
 "nbformat": 4,
 "nbformat_minor": 5
}
