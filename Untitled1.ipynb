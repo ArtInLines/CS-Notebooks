{
 "cells": [
  {
   "cell_type": "code",
   "execution_count": 43,
   "id": "6105a402-6942-497f-bd45-bc80ee4f7e8c",
   "metadata": {},
   "outputs": [],
   "source": [
    "def quickInsertionSelect(L, k):\n",
    "    L[:k] = sorted(L[:k])\n",
    "    for i in range(k, len(L)):\n",
    "        val = L[i]\n",
    "        j = k-1\n",
    "        while j >= 0 and L[j] > val:\n",
    "            L[j+1] = L[j]\n",
    "            j -= 1\n",
    "        L[j+1] = val\n",
    "    return L[:k]"
   ]
  },
  {
   "cell_type": "code",
   "execution_count": 96,
   "id": "c93fc8b9-2166-417a-ae9b-f4c6857ff422",
   "metadata": {},
   "outputs": [],
   "source": [
    "def quickSelect(L, k):\n",
    "    if len(L) <= k:\n",
    "        return L\n",
    "    x, *R = L\n",
    "    S = [n for n in R if n <= x]\n",
    "    \n",
    "    if k <= len(S):\n",
    "        return quickSelect(S, k)\n",
    "    if k == len(S) + 1:\n",
    "        return S + [x]\n",
    "    \n",
    "    B = [y for y in R if y >  x]\n",
    "    return S + [x] + quickSelect(B, k - len(S) - 1)"
   ]
  },
  {
   "cell_type": "code",
   "execution_count": 106,
   "id": "b957b525-cb72-4463-abba-f123f93d1635",
   "metadata": {},
   "outputs": [],
   "source": [
    "k = 100"
   ]
  },
  {
   "cell_type": "code",
   "execution_count": 107,
   "id": "024c4c75-7b3c-4171-aa42-28bd2f6103e7",
   "metadata": {},
   "outputs": [],
   "source": [
    "import random as rnd\n",
    "from collections import Counter"
   ]
  },
  {
   "cell_type": "code",
   "execution_count": 108,
   "id": "f058a5b2-f825-4c45-9fb2-68841592477b",
   "metadata": {},
   "outputs": [],
   "source": [
    "def sameElements(M, N):\n",
    "        return Counter(M) == Counter(N)"
   ]
  },
  {
   "cell_type": "code",
   "execution_count": 109,
   "id": "719adaba-40ec-48bc-88d4-b8d7297f3a02",
   "metadata": {},
   "outputs": [
    {
     "name": "stdout",
     "output_type": "stream",
     "text": [
      "....................................................................................................\n",
      "All tests successful\n"
     ]
    }
   ],
   "source": [
    "minEl = 0\n",
    "maxEl = 1_000\n",
    "for i in range(100):\n",
    "    L = [ rnd.randrange(minEl, maxEl) for x in range(i * 1000) ]\n",
    "    S = quickSelect(L[:], k)\n",
    "    L = sorted(L)[:k]\n",
    "    assert sameElements(L, S), f'Failed:\\n{L}\\n{S}'\n",
    "    print('.', end='')\n",
    "print('\\nAll tests successful')"
   ]
  },
  {
   "cell_type": "code",
   "execution_count": 110,
   "id": "a91f8780-c42f-45a1-9038-45a1479b2707",
   "metadata": {},
   "outputs": [
    {
     "name": "stdout",
     "output_type": "stream",
     "text": [
      "....................................................................................................\n",
      "All tests successful\n"
     ]
    }
   ],
   "source": [
    "minEl = 0\n",
    "maxEl = 1_000\n",
    "for i in range(100):\n",
    "    L = [ rnd.randrange(minEl, maxEl) for x in range(i * 100) ]\n",
    "    S = quickInsertionSelect(L[:], k)\n",
    "    L = sorted(L)[:k]\n",
    "    assert sameElements(L, S), f'Failed:\\n{L}\\n{S}'\n",
    "    print('.', end='')\n",
    "print('\\nAll tests successful')"
   ]
  },
  {
   "cell_type": "code",
   "execution_count": 111,
   "id": "e49951be-2dbf-4b3b-99d9-269e1a6e3984",
   "metadata": {},
   "outputs": [],
   "source": [
    "L = [ rnd.randrange(0, 100_000) for x in range(100_000) ]"
   ]
  },
  {
   "cell_type": "code",
   "execution_count": 114,
   "id": "58eace54-2f08-49ae-8415-05c4a8fadb03",
   "metadata": {},
   "outputs": [
    {
     "name": "stdout",
     "output_type": "stream",
     "text": [
      "10.1 ms ± 40.7 µs per loop (mean ± std. dev. of 7 runs, 100 loops each)\n"
     ]
    }
   ],
   "source": [
    "%%timeit\n",
    "quickInsertionSelect(L,k)"
   ]
  },
  {
   "cell_type": "code",
   "execution_count": 112,
   "id": "41f8a197-de02-46dd-b955-5b5fe7ece7a4",
   "metadata": {},
   "outputs": [
    {
     "name": "stdout",
     "output_type": "stream",
     "text": [
      "4.44 ms ± 92 µs per loop (mean ± std. dev. of 7 runs, 100 loops each)\n"
     ]
    }
   ],
   "source": [
    "%%timeit\n",
    "quickSelect(L, k)"
   ]
  },
  {
   "cell_type": "code",
   "execution_count": 113,
   "id": "575a290d-ef34-49a8-9507-b055be8c0435",
   "metadata": {},
   "outputs": [
    {
     "name": "stdout",
     "output_type": "stream",
     "text": [
      "12.5 ms ± 28.5 µs per loop (mean ± std. dev. of 7 runs, 100 loops each)\n"
     ]
    }
   ],
   "source": [
    "%%timeit\n",
    "sorted(L)[:k]"
   ]
  }
 ],
 "metadata": {
  "kernelspec": {
   "display_name": "Python 3 (ipykernel)",
   "language": "python",
   "name": "python3"
  },
  "language_info": {
   "codemirror_mode": {
    "name": "ipython",
    "version": 3
   },
   "file_extension": ".py",
   "mimetype": "text/x-python",
   "name": "python",
   "nbconvert_exporter": "python",
   "pygments_lexer": "ipython3",
   "version": "3.10.4"
  }
 },
 "nbformat": 4,
 "nbformat_minor": 5
}
